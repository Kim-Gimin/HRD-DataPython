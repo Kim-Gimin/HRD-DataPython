{
 "cells": [
  {
   "cell_type": "code",
   "execution_count": 1,
   "metadata": {},
   "outputs": [],
   "source": [
    "dice = [1,2,3,4,5,6]\n",
    "prob = [1/21, 2/21, 3/21, 4/21, 5/21, 6/21]"
   ]
  },
  {
   "cell_type": "code",
   "execution_count": 2,
   "metadata": {},
   "outputs": [
    {
     "data": {
      "text/plain": [
       "array([6, 4, 5, 2, 6, 6, 5, 6, 6, 2, 5, 6, 4, 3, 6, 4, 5, 1, 3, 4, 5, 5,\n",
       "       6, 5, 2, 4, 4, 5, 1, 2, 4, 5, 2, 5, 6, 5, 6, 6, 1, 4, 4, 6, 5, 6,\n",
       "       1, 4, 6, 4, 3, 6, 4, 6, 3, 4, 3, 5, 5, 4, 6, 6, 6, 5, 6, 5, 6, 5,\n",
       "       3, 3, 3, 6, 3, 5, 4, 4, 4, 2, 4, 5, 6, 6, 3, 6, 4, 2, 6, 1, 5, 5,\n",
       "       5, 5, 4, 6, 4, 6, 6, 2, 4, 5, 2, 2])"
      ]
     },
     "execution_count": 2,
     "metadata": {},
     "output_type": "execute_result"
    }
   ],
   "source": [
    "import numpy as np\n",
    "num_trial = 100\n",
    "sample = np.random.choice(dice, num_trial, p=prob)\n",
    "sample"
   ]
  },
  {
   "cell_type": "code",
   "execution_count": null,
   "metadata": {},
   "outputs": [],
   "source": [
    "class Cat:\n",
    "    __x_member = 0\n",
    "    __y_member = 0\n",
    "    member _x__ = 100\n",
    "    member _y__ = 200\n",
    "    def __init__(self):\n",
    "        print(\"초기함수\")\n",
    "        self.x_member = x_member\n",
    "        self.y_member = y_member\n",
    "    def __str__(self):\n",
    "        return(f'x_member : {self.x_member} : y_member : {self.y_member}'\n",
    "               )\n",
    "cat = Cat(x_member=100, y_member=200)\n",
    "print(cat)\n",
    "\n",
    "cat.member_x = 100\n",
    "cat.member_y = 200 \n",
    "print(cat.member_x, cat.member_y)"
   ]
  },
  {
   "attachments": {},
   "cell_type": "markdown",
   "metadata": {},
   "source": []
  }
 ],
 "metadata": {
  "kernelspec": {
   "display_name": "Python 3",
   "language": "python",
   "name": "python3"
  },
  "language_info": {
   "codemirror_mode": {
    "name": "ipython",
    "version": 3
   },
   "file_extension": ".py",
   "mimetype": "text/x-python",
   "name": "python",
   "nbconvert_exporter": "python",
   "pygments_lexer": "ipython3",
   "version": "3.10.11"
  },
  "orig_nbformat": 4
 },
 "nbformat": 4,
 "nbformat_minor": 2
}
